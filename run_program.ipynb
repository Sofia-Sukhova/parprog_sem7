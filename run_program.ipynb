{
 "cells": [
  {
   "cell_type": "code",
   "execution_count": 2,
   "metadata": {},
   "outputs": [
    {
     "name": "stdout",
     "output_type": "stream",
     "text": [
      "0.013289\n",
      "0.013612\n",
      "0.027370\n",
      "0.018109\n"
     ]
    },
    {
     "name": "stderr",
     "output_type": "stream",
     "text": [
      "--------------------------------------------------------------------------\n",
      "A system call failed during shared memory initialization that should\n",
      "not have.  It is likely that your MPI job will now either abort or\n",
      "experience performance degradation.\n",
      "\n",
      "  Local host:  MacBook-Air-Sofa.local\n",
      "  System call: unlink(2) /var/folders/pb/wl7yj2m54rb6zgfpjbwpgjqw0000gn/T//ompi.MacBook-Air-Sofa.501/pid.60755/1/vader_segment.MacBook-Air-Sofa.501.20760001.0\n",
      "  Error:       No such file or directory (errno 2)\n",
      "--------------------------------------------------------------------------\n"
     ]
    },
    {
     "name": "stdout",
     "output_type": "stream",
     "text": [
      "0.028464\n"
     ]
    },
    {
     "name": "stderr",
     "output_type": "stream",
     "text": [
      "--------------------------------------------------------------------------\n",
      "A system call failed during shared memory initialization that should\n",
      "not have.  It is likely that your MPI job will now either abort or\n",
      "experience performance degradation.\n",
      "\n",
      "  Local host:  MacBook-Air-Sofa.local\n",
      "  System call: unlink(2) /var/folders/pb/wl7yj2m54rb6zgfpjbwpgjqw0000gn/T//ompi.MacBook-Air-Sofa.501/pid.60761/1/vader_segment.MacBook-Air-Sofa.501.207c0001.2\n",
      "  Error:       No such file or directory (errno 2)\n",
      "--------------------------------------------------------------------------\n",
      "[MacBook-Air-Sofa.local:60761] 1 more process has sent help message help-opal-shmem-mmap.txt / sys call fail\n",
      "[MacBook-Air-Sofa.local:60761] Set MCA parameter \"orte_base_help_aggregate\" to 0 to see all help / error messages\n"
     ]
    },
    {
     "name": "stdout",
     "output_type": "stream",
     "text": [
      "0.049300\n"
     ]
    },
    {
     "name": "stderr",
     "output_type": "stream",
     "text": [
      "--------------------------------------------------------------------------\n",
      "A system call failed during shared memory initialization that should\n",
      "not have.  It is likely that your MPI job will now either abort or\n",
      "experience performance degradation.\n",
      "\n",
      "  Local host:  MacBook-Air-Sofa.local\n",
      "  System call: unlink(2) /var/folders/pb/wl7yj2m54rb6zgfpjbwpgjqw0000gn/T//ompi.MacBook-Air-Sofa.501/pid.60768/1/vader_segment.MacBook-Air-Sofa.501.20450001.5\n",
      "  Error:       No such file or directory (errno 2)\n",
      "--------------------------------------------------------------------------\n",
      "[MacBook-Air-Sofa.local:60768] 2 more processes have sent help message help-opal-shmem-mmap.txt / sys call fail\n",
      "[MacBook-Air-Sofa.local:60768] Set MCA parameter \"orte_base_help_aggregate\" to 0 to see all help / error messages\n"
     ]
    },
    {
     "name": "stdout",
     "output_type": "stream",
     "text": [
      "0.027554\n"
     ]
    },
    {
     "name": "stderr",
     "output_type": "stream",
     "text": [
      "--------------------------------------------------------------------------\n",
      "A system call failed during shared memory initialization that should\n",
      "not have.  It is likely that your MPI job will now either abort or\n",
      "experience performance degradation.\n",
      "\n",
      "  Local host:  MacBook-Air-Sofa.local\n",
      "  System call: unlink(2) /var/folders/pb/wl7yj2m54rb6zgfpjbwpgjqw0000gn/T//ompi.MacBook-Air-Sofa.501/pid.60776/1/vader_segment.MacBook-Air-Sofa.501.204d0001.6\n",
      "  Error:       No such file or directory (errno 2)\n",
      "--------------------------------------------------------------------------\n",
      "[MacBook-Air-Sofa.local:60776] 3 more processes have sent help message help-opal-shmem-mmap.txt / sys call fail\n",
      "[MacBook-Air-Sofa.local:60776] Set MCA parameter \"orte_base_help_aggregate\" to 0 to see all help / error messages\n"
     ]
    },
    {
     "name": "stdout",
     "output_type": "stream",
     "text": [
      "0.026413\n"
     ]
    },
    {
     "name": "stderr",
     "output_type": "stream",
     "text": [
      "--------------------------------------------------------------------------\n",
      "A system call failed during shared memory initialization that should\n",
      "not have.  It is likely that your MPI job will now either abort or\n",
      "experience performance degradation.\n",
      "\n",
      "  Local host:  MacBook-Air-Sofa.local\n",
      "  System call: unlink(2) /var/folders/pb/wl7yj2m54rb6zgfpjbwpgjqw0000gn/T//ompi.MacBook-Air-Sofa.501/pid.60785/1/vader_segment.MacBook-Air-Sofa.501.20540001.8\n",
      "  Error:       No such file or directory (errno 2)\n",
      "--------------------------------------------------------------------------\n",
      "[MacBook-Air-Sofa.local:60785] 4 more processes have sent help message help-opal-shmem-mmap.txt / sys call fail\n",
      "[MacBook-Air-Sofa.local:60785] Set MCA parameter \"orte_base_help_aggregate\" to 0 to see all help / error messages\n"
     ]
    },
    {
     "name": "stdout",
     "output_type": "stream",
     "text": [
      "0.046559\n"
     ]
    },
    {
     "name": "stderr",
     "output_type": "stream",
     "text": [
      "--------------------------------------------------------------------------\n",
      "A system call failed during shared memory initialization that should\n",
      "not have.  It is likely that your MPI job will now either abort or\n",
      "experience performance degradation.\n",
      "\n",
      "  Local host:  MacBook-Air-Sofa.local\n",
      "  System call: unlink(2) /var/folders/pb/wl7yj2m54rb6zgfpjbwpgjqw0000gn/T//ompi.MacBook-Air-Sofa.501/pid.60795/1/vader_segment.MacBook-Air-Sofa.501.205e0001.2\n",
      "  Error:       No such file or directory (errno 2)\n",
      "--------------------------------------------------------------------------\n",
      "[MacBook-Air-Sofa.local:60795] 5 more processes have sent help message help-opal-shmem-mmap.txt / sys call fail\n",
      "[MacBook-Air-Sofa.local:60795] Set MCA parameter \"orte_base_help_aggregate\" to 0 to see all help / error messages\n"
     ]
    },
    {
     "name": "stdout",
     "output_type": "stream",
     "text": [
      "0.040043\n"
     ]
    },
    {
     "name": "stderr",
     "output_type": "stream",
     "text": [
      "--------------------------------------------------------------------------\n",
      "A system call failed during shared memory initialization that should\n",
      "not have.  It is likely that your MPI job will now either abort or\n",
      "experience performance degradation.\n",
      "\n",
      "  Local host:  MacBook-Air-Sofa.local\n",
      "  System call: unlink(2) /var/folders/pb/wl7yj2m54rb6zgfpjbwpgjqw0000gn/T//ompi.MacBook-Air-Sofa.501/pid.60806/1/vader_segment.MacBook-Air-Sofa.501.20a30001.9\n",
      "  Error:       No such file or directory (errno 2)\n",
      "--------------------------------------------------------------------------\n",
      "[MacBook-Air-Sofa.local:60806] 6 more processes have sent help message help-opal-shmem-mmap.txt / sys call fail\n",
      "[MacBook-Air-Sofa.local:60806] Set MCA parameter \"orte_base_help_aggregate\" to 0 to see all help / error messages\n"
     ]
    },
    {
     "name": "stdout",
     "output_type": "stream",
     "text": [
      "0.061610\n"
     ]
    },
    {
     "name": "stderr",
     "output_type": "stream",
     "text": [
      "--------------------------------------------------------------------------\n",
      "A system call failed during shared memory initialization that should\n",
      "not have.  It is likely that your MPI job will now either abort or\n",
      "experience performance degradation.\n",
      "\n",
      "  Local host:  MacBook-Air-Sofa.local\n",
      "  System call: unlink(2) /var/folders/pb/wl7yj2m54rb6zgfpjbwpgjqw0000gn/T//ompi.MacBook-Air-Sofa.501/pid.60818/1/vader_segment.MacBook-Air-Sofa.501.20b70001.10\n",
      "  Error:       No such file or directory (errno 2)\n",
      "--------------------------------------------------------------------------\n",
      "[MacBook-Air-Sofa.local:60818] 3 more processes have sent help message help-opal-shmem-mmap.txt / sys call fail\n",
      "[MacBook-Air-Sofa.local:60818] Set MCA parameter \"orte_base_help_aggregate\" to 0 to see all help / error messages\n"
     ]
    },
    {
     "name": "stdout",
     "output_type": "stream",
     "text": [
      "0.062167\n"
     ]
    },
    {
     "name": "stderr",
     "output_type": "stream",
     "text": [
      "--------------------------------------------------------------------------\n",
      "A system call failed during shared memory initialization that should\n",
      "not have.  It is likely that your MPI job will now either abort or\n",
      "experience performance degradation.\n",
      "\n",
      "  Local host:  MacBook-Air-Sofa.local\n",
      "  System call: unlink(2) /var/folders/pb/wl7yj2m54rb6zgfpjbwpgjqw0000gn/T//ompi.MacBook-Air-Sofa.501/pid.60831/1/vader_segment.MacBook-Air-Sofa.501.20ba0001.1\n",
      "  Error:       No such file or directory (errno 2)\n",
      "--------------------------------------------------------------------------\n",
      "[MacBook-Air-Sofa.local:60831] 5 more processes have sent help message help-opal-shmem-mmap.txt / sys call fail\n",
      "[MacBook-Air-Sofa.local:60831] Set MCA parameter \"orte_base_help_aggregate\" to 0 to see all help / error messages\n"
     ]
    },
    {
     "name": "stdout",
     "output_type": "stream",
     "text": [
      "0.072827\n"
     ]
    },
    {
     "ename": "KeyboardInterrupt",
     "evalue": "",
     "output_type": "error",
     "traceback": [
      "\u001b[0;31m---------------------------------------------------------------------------\u001b[0m",
      "\u001b[0;31mKeyboardInterrupt\u001b[0m                         Traceback (most recent call last)",
      "\u001b[1;32m/Users/sofasuhova/Desktop/mipt/7sem/ParProg/run_program.ipynb Ячейка 1\u001b[0m line \u001b[0;36m1\n\u001b[1;32m      <a href='vscode-notebook-cell:/Users/sofasuhova/Desktop/mipt/7sem/ParProg/run_program.ipynb#W1sZmlsZQ%3D%3D?line=8'>9</a>\u001b[0m \u001b[39mfor\u001b[39;00m i \u001b[39min\u001b[39;00m \u001b[39mrange\u001b[39m(\u001b[39m1\u001b[39m, N):\n\u001b[1;32m     <a href='vscode-notebook-cell:/Users/sofasuhova/Desktop/mipt/7sem/ParProg/run_program.ipynb#W1sZmlsZQ%3D%3D?line=9'>10</a>\u001b[0m     cmd \u001b[39m=\u001b[39m \u001b[39m\"\u001b[39m\u001b[39mmpirun -np \u001b[39m\u001b[39m\"\u001b[39m\u001b[39m+\u001b[39m \u001b[39mstr\u001b[39m(i) \u001b[39m+\u001b[39m \u001b[39m\"\u001b[39m\u001b[39m -oversubscribe ./\u001b[39m\u001b[39m\"\u001b[39m \u001b[39m+\u001b[39m program\n\u001b[0;32m---> <a href='vscode-notebook-cell:/Users/sofasuhova/Desktop/mipt/7sem/ParProg/run_program.ipynb#W1sZmlsZQ%3D%3D?line=10'>11</a>\u001b[0m     read \u001b[39m=\u001b[39m os\u001b[39m.\u001b[39;49mpopen(cmd)\u001b[39m.\u001b[39;49mread()\n\u001b[1;32m     <a href='vscode-notebook-cell:/Users/sofasuhova/Desktop/mipt/7sem/ParProg/run_program.ipynb#W1sZmlsZQ%3D%3D?line=11'>12</a>\u001b[0m     \u001b[39mprint\u001b[39m(read)\n",
      "\u001b[0;31mKeyboardInterrupt\u001b[0m: "
     ]
    },
    {
     "name": "stderr",
     "output_type": "stream",
     "text": [
      "--------------------------------------------------------------------------\n",
      "A system call failed during shared memory initialization that should\n",
      "not have.  It is likely that your MPI job will now either abort or\n",
      "experience performance degradation.\n",
      "\n",
      "  Local host:  MacBook-Air-Sofa.local\n",
      "  System call: unlink(2) /var/folders/pb/wl7yj2m54rb6zgfpjbwpgjqw0000gn/T//ompi.MacBook-Air-Sofa.501/pid.60845/1/vader_segment.MacBook-Air-Sofa.501.20880001.13\n",
      "  Error:       No such file or directory (errno 2)\n",
      "--------------------------------------------------------------------------\n",
      "[MacBook-Air-Sofa.local:60845] 6 more processes have sent help message help-opal-shmem-mmap.txt / sys call fail\n",
      "[MacBook-Air-Sofa.local:60845] Set MCA parameter \"orte_base_help_aggregate\" to 0 to see all help / error messages\n"
     ]
    }
   ],
   "source": [
    "import pandas as pd\n",
    "import os\n",
    "\n",
    "program = \"test\"\n",
    "N = 17\n",
    "\n",
    "#MPI\n",
    "for i in range(1, N):\n",
    "    os.system(\"export TMPDIR=/tmp\")\n",
    "    cmd = \"mpirun -np \"+ str(i) + \" -oversubscribe ./\" + program\n",
    "    read = os.popen(cmd).read()\n",
    "    print(read)\n",
    "\n",
    "# OpenMP\n"
   ]
  }
 ],
 "metadata": {
  "kernelspec": {
   "display_name": "Python 3",
   "language": "python",
   "name": "python3"
  },
  "language_info": {
   "codemirror_mode": {
    "name": "ipython",
    "version": 3
   },
   "file_extension": ".py",
   "mimetype": "text/x-python",
   "name": "python",
   "nbconvert_exporter": "python",
   "pygments_lexer": "ipython3",
   "version": "3.9.18"
  }
 },
 "nbformat": 4,
 "nbformat_minor": 2
}
